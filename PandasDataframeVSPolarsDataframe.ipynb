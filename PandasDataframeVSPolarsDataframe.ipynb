{
 "cells": [
  {
   "cell_type": "code",
   "execution_count": 2,
   "metadata": {
    "id": "1FbbXhVayFbg"
   },
   "outputs": [],
   "source": [
    "import pandas as pd\n",
    "import polars as pl"
   ]
  },
  {
   "cell_type": "code",
   "execution_count": 3,
   "metadata": {
    "id": "p-A-yVGVyc6v"
   },
   "outputs": [],
   "source": [
    "# Create a dictionary of names and num_occurrences\n",
    "data = {\n",
    "    \"name\": [\"Japhy\", \"Arthur\", \"Rusty\",\"Alan\"],\n",
    "    \"num_occurrences\": [3, 2, None, 9]\n",
    "}"
   ]
  },
  {
   "cell_type": "markdown",
   "metadata": {
    "id": "or62nR_1yx2D"
   },
   "source": [
    "Assemble the DataFrame in Pandas"
   ]
  },
  {
   "cell_type": "code",
   "execution_count": 4,
   "metadata": {
    "colab": {
     "base_uri": "https://localhost:8080/",
     "height": 175
    },
    "executionInfo": {
     "elapsed": 298,
     "status": "ok",
     "timestamp": 1707755059936,
     "user": {
      "displayName": "Brett Vanderblock",
      "userId": "08986418591522242227"
     },
     "user_tz": 420
    },
    "id": "ggCGsxbJywWI",
    "outputId": "077315b8-cfe3-4455-caa6-7919c549f6f3"
   },
   "outputs": [
    {
     "data": {
      "text/html": [
       "<div>\n",
       "<style scoped>\n",
       "    .dataframe tbody tr th:only-of-type {\n",
       "        vertical-align: middle;\n",
       "    }\n",
       "\n",
       "    .dataframe tbody tr th {\n",
       "        vertical-align: top;\n",
       "    }\n",
       "\n",
       "    .dataframe thead th {\n",
       "        text-align: right;\n",
       "    }\n",
       "</style>\n",
       "<table border=\"1\" class=\"dataframe\">\n",
       "  <thead>\n",
       "    <tr style=\"text-align: right;\">\n",
       "      <th></th>\n",
       "      <th>name</th>\n",
       "      <th>num_occurrences</th>\n",
       "    </tr>\n",
       "  </thead>\n",
       "  <tbody>\n",
       "    <tr>\n",
       "      <th>0</th>\n",
       "      <td>Japhy</td>\n",
       "      <td>3.0</td>\n",
       "    </tr>\n",
       "    <tr>\n",
       "      <th>1</th>\n",
       "      <td>Arthur</td>\n",
       "      <td>2.0</td>\n",
       "    </tr>\n",
       "    <tr>\n",
       "      <th>2</th>\n",
       "      <td>Rusty</td>\n",
       "      <td>NaN</td>\n",
       "    </tr>\n",
       "    <tr>\n",
       "      <th>3</th>\n",
       "      <td>Alan</td>\n",
       "      <td>9.0</td>\n",
       "    </tr>\n",
       "  </tbody>\n",
       "</table>\n",
       "</div>"
      ],
      "text/plain": [
       "     name  num_occurrences\n",
       "0   Japhy              3.0\n",
       "1  Arthur              2.0\n",
       "2   Rusty              NaN\n",
       "3    Alan              9.0"
      ]
     },
     "execution_count": 4,
     "metadata": {},
     "output_type": "execute_result"
    }
   ],
   "source": [
    "# Create a pandas dataframe\n",
    "df_pd = pd.DataFrame(data)\n",
    "df_pd"
   ]
  },
  {
   "cell_type": "markdown",
   "metadata": {
    "id": "ZN6mZ76wzRtr"
   },
   "source": [
    "Now, assemble the DataFrame in Polars"
   ]
  },
  {
   "cell_type": "code",
   "execution_count": 5,
   "metadata": {
    "colab": {
     "base_uri": "https://localhost:8080/",
     "height": 224
    },
    "executionInfo": {
     "elapsed": 308,
     "status": "ok",
     "timestamp": 1707755065128,
     "user": {
      "displayName": "Brett Vanderblock",
      "userId": "08986418591522242227"
     },
     "user_tz": 420
    },
    "id": "4zYanCTAy6v1",
    "outputId": "e5c8b85a-8d6d-48ff-e235-c623e5f18309"
   },
   "outputs": [
    {
     "data": {
      "text/html": [
       "<div><style>\n",
       ".dataframe > thead > tr,\n",
       ".dataframe > tbody > tr {\n",
       "  text-align: right;\n",
       "  white-space: pre-wrap;\n",
       "}\n",
       "</style>\n",
       "<small>shape: (4, 2)</small><table border=\"1\" class=\"dataframe\"><thead><tr><th>name</th><th>num_occurrences</th></tr><tr><td>str</td><td>i64</td></tr></thead><tbody><tr><td>&quot;Japhy&quot;</td><td>3</td></tr><tr><td>&quot;Arthur&quot;</td><td>2</td></tr><tr><td>&quot;Rusty&quot;</td><td>null</td></tr><tr><td>&quot;Alan&quot;</td><td>9</td></tr></tbody></table></div>"
      ],
      "text/plain": [
       "shape: (4, 2)\n",
       "┌────────┬─────────────────┐\n",
       "│ name   ┆ num_occurrences │\n",
       "│ ---    ┆ ---             │\n",
       "│ str    ┆ i64             │\n",
       "╞════════╪═════════════════╡\n",
       "│ Japhy  ┆ 3               │\n",
       "│ Arthur ┆ 2               │\n",
       "│ Rusty  ┆ null            │\n",
       "│ Alan   ┆ 9               │\n",
       "└────────┴─────────────────┘"
      ]
     },
     "execution_count": 5,
     "metadata": {},
     "output_type": "execute_result"
    }
   ],
   "source": [
    "# Create a Polars dataframe\n",
    "df_pl = pl.DataFrame(data)\n",
    "df_pl"
   ]
  },
  {
   "cell_type": "markdown",
   "metadata": {
    "id": "sOs6B8ChFIwp"
   },
   "source": [
    "## Key syntax is consistent across both Pandas and Polars"
   ]
  },
  {
   "cell_type": "markdown",
   "metadata": {
    "id": "TosMYkIXLTGw"
   },
   "source": [
    "Use of `head()`, `shape`, and `dtypes` is identical in both Pandas and Polars."
   ]
  },
  {
   "cell_type": "code",
   "execution_count": 7,
   "metadata": {
    "colab": {
     "base_uri": "https://localhost:8080/",
     "height": 81
    },
    "executionInfo": {
     "elapsed": 279,
     "status": "ok",
     "timestamp": 1707755076867,
     "user": {
      "displayName": "Brett Vanderblock",
      "userId": "08986418591522242227"
     },
     "user_tz": 420
    },
    "id": "RkTbDh6fG0vV",
    "outputId": "45ed9270-23ff-45bb-ab30-4fe3270fc54e"
   },
   "outputs": [
    {
     "data": {
      "text/html": [
       "<div>\n",
       "<style scoped>\n",
       "    .dataframe tbody tr th:only-of-type {\n",
       "        vertical-align: middle;\n",
       "    }\n",
       "\n",
       "    .dataframe tbody tr th {\n",
       "        vertical-align: top;\n",
       "    }\n",
       "\n",
       "    .dataframe thead th {\n",
       "        text-align: right;\n",
       "    }\n",
       "</style>\n",
       "<table border=\"1\" class=\"dataframe\">\n",
       "  <thead>\n",
       "    <tr style=\"text-align: right;\">\n",
       "      <th></th>\n",
       "      <th>name</th>\n",
       "      <th>num_occurrences</th>\n",
       "    </tr>\n",
       "  </thead>\n",
       "  <tbody>\n",
       "    <tr>\n",
       "      <th>0</th>\n",
       "      <td>Japhy</td>\n",
       "      <td>3.0</td>\n",
       "    </tr>\n",
       "  </tbody>\n",
       "</table>\n",
       "</div>"
      ],
      "text/plain": [
       "    name  num_occurrences\n",
       "0  Japhy              3.0"
      ]
     },
     "execution_count": 7,
     "metadata": {},
     "output_type": "execute_result"
    }
   ],
   "source": [
    "# show top row of pandas dataframe\n",
    "df_pd.head(1)"
   ]
  },
  {
   "cell_type": "code",
   "execution_count": 8,
   "metadata": {
    "colab": {
     "base_uri": "https://localhost:8080/",
     "height": 129
    },
    "executionInfo": {
     "elapsed": 5,
     "status": "ok",
     "timestamp": 1707755787664,
     "user": {
      "displayName": "Brett Vanderblock",
      "userId": "08986418591522242227"
     },
     "user_tz": 420
    },
    "id": "RGhIhtobOqNc",
    "outputId": "ce2dad66-20c7-4c5d-afb9-543845fd99d5"
   },
   "outputs": [
    {
     "data": {
      "text/html": [
       "<div><style>\n",
       ".dataframe > thead > tr,\n",
       ".dataframe > tbody > tr {\n",
       "  text-align: right;\n",
       "  white-space: pre-wrap;\n",
       "}\n",
       "</style>\n",
       "<small>shape: (1, 2)</small><table border=\"1\" class=\"dataframe\"><thead><tr><th>name</th><th>num_occurrences</th></tr><tr><td>str</td><td>i64</td></tr></thead><tbody><tr><td>&quot;Japhy&quot;</td><td>3</td></tr></tbody></table></div>"
      ],
      "text/plain": [
       "shape: (1, 2)\n",
       "┌───────┬─────────────────┐\n",
       "│ name  ┆ num_occurrences │\n",
       "│ ---   ┆ ---             │\n",
       "│ str   ┆ i64             │\n",
       "╞═══════╪═════════════════╡\n",
       "│ Japhy ┆ 3               │\n",
       "└───────┴─────────────────┘"
      ]
     },
     "execution_count": 8,
     "metadata": {},
     "output_type": "execute_result"
    }
   ],
   "source": [
    "# show top row of polars dataframe\n",
    "df_pl.head(1)"
   ]
  },
  {
   "cell_type": "code",
   "execution_count": 11,
   "metadata": {
    "colab": {
     "base_uri": "https://localhost:8080/"
    },
    "executionInfo": {
     "elapsed": 290,
     "status": "ok",
     "timestamp": 1707755805867,
     "user": {
      "displayName": "Brett Vanderblock",
      "userId": "08986418591522242227"
     },
     "user_tz": 420
    },
    "id": "lf-DRGpTHzer",
    "outputId": "bc9ef6c8-5208-42c0-8471-8764420ee808"
   },
   "outputs": [
    {
     "data": {
      "text/plain": [
       "(4, 2)"
      ]
     },
     "execution_count": 11,
     "metadata": {},
     "output_type": "execute_result"
    }
   ],
   "source": [
    "# show shape of pandas dataframe\n",
    "df_pd.shape"
   ]
  },
  {
   "cell_type": "code",
   "execution_count": 10,
   "metadata": {
    "colab": {
     "base_uri": "https://localhost:8080/"
    },
    "executionInfo": {
     "elapsed": 449,
     "status": "ok",
     "timestamp": 1707755818226,
     "user": {
      "displayName": "Brett Vanderblock",
      "userId": "08986418591522242227"
     },
     "user_tz": 420
    },
    "id": "fR3GdA_eFUGq",
    "outputId": "21ea83b0-aefb-4329-9b5b-4c86d9f2230a"
   },
   "outputs": [
    {
     "data": {
      "text/plain": [
       "(4, 2)"
      ]
     },
     "execution_count": 10,
     "metadata": {},
     "output_type": "execute_result"
    }
   ],
   "source": [
    "# show shape of polars dataframe\n",
    "df_pl.shape"
   ]
  },
  {
   "cell_type": "code",
   "execution_count": 12,
   "metadata": {
    "colab": {
     "base_uri": "https://localhost:8080/"
    },
    "executionInfo": {
     "elapsed": 263,
     "status": "ok",
     "timestamp": 1707755834378,
     "user": {
      "displayName": "Brett Vanderblock",
      "userId": "08986418591522242227"
     },
     "user_tz": 420
    },
    "id": "eK3c6zbuPMA2",
    "outputId": "4bb7e66e-b1d8-4596-c914-ef648e91fa30"
   },
   "outputs": [
    {
     "data": {
      "text/plain": [
       "name                object\n",
       "num_occurrences    float64\n",
       "dtype: object"
      ]
     },
     "execution_count": 12,
     "metadata": {},
     "output_type": "execute_result"
    }
   ],
   "source": [
    "# show datatypes of pandas dataframe\n",
    "\n",
    "df_pd.dtypes"
   ]
  },
  {
   "cell_type": "code",
   "execution_count": 13,
   "metadata": {
    "colab": {
     "base_uri": "https://localhost:8080/"
    },
    "executionInfo": {
     "elapsed": 275,
     "status": "ok",
     "timestamp": 1707755845665,
     "user": {
      "displayName": "Brett Vanderblock",
      "userId": "08986418591522242227"
     },
     "user_tz": 420
    },
    "id": "2lU8fzEnPNp-",
    "outputId": "ef65037d-1f1b-42e0-e977-c5443d2fa17d"
   },
   "outputs": [
    {
     "data": {
      "text/plain": [
       "[String, Int64]"
      ]
     },
     "execution_count": 13,
     "metadata": {},
     "output_type": "execute_result"
    }
   ],
   "source": [
    "# show datatypes of polars dataframe\n",
    "\n",
    "df_pl.dtypes"
   ]
  },
  {
   "cell_type": "code",
   "execution_count": 14,
   "metadata": {
    "colab": {
     "base_uri": "https://localhost:8080/"
    },
    "executionInfo": {
     "elapsed": 262,
     "status": "ok",
     "timestamp": 1707755858245,
     "user": {
      "displayName": "Brett Vanderblock",
      "userId": "08986418591522242227"
     },
     "user_tz": 420
    },
    "id": "LXnig9QYFVNb",
    "outputId": "7793d6bb-1b47-40ed-ead8-ae203d9aa7e6"
   },
   "outputs": [
    {
     "data": {
      "text/plain": [
       "count    3.000000\n",
       "mean     4.666667\n",
       "std      3.785939\n",
       "min      2.000000\n",
       "25%      2.500000\n",
       "50%      3.000000\n",
       "75%      6.000000\n",
       "max      9.000000\n",
       "Name: num_occurrences, dtype: float64"
      ]
     },
     "execution_count": 14,
     "metadata": {},
     "output_type": "execute_result"
    }
   ],
   "source": [
    "# use describe() on pandas dataframe\n",
    "\n",
    "df_pd['num_occurrences'].describe()"
   ]
  },
  {
   "cell_type": "code",
   "execution_count": 15,
   "metadata": {
    "colab": {
     "base_uri": "https://localhost:8080/",
     "height": 380
    },
    "executionInfo": {
     "elapsed": 261,
     "status": "ok",
     "timestamp": 1707755867541,
     "user": {
      "displayName": "Brett Vanderblock",
      "userId": "08986418591522242227"
     },
     "user_tz": 420
    },
    "id": "2R1_VThVzcfz",
    "outputId": "427e88cd-9a67-4ce7-84a6-79f19e4612a4"
   },
   "outputs": [
    {
     "data": {
      "text/html": [
       "<div><style>\n",
       ".dataframe > thead > tr,\n",
       ".dataframe > tbody > tr {\n",
       "  text-align: right;\n",
       "  white-space: pre-wrap;\n",
       "}\n",
       "</style>\n",
       "<small>shape: (9, 2)</small><table border=\"1\" class=\"dataframe\"><thead><tr><th>statistic</th><th>value</th></tr><tr><td>str</td><td>f64</td></tr></thead><tbody><tr><td>&quot;count&quot;</td><td>3.0</td></tr><tr><td>&quot;null_count&quot;</td><td>1.0</td></tr><tr><td>&quot;mean&quot;</td><td>4.666667</td></tr><tr><td>&quot;std&quot;</td><td>3.785939</td></tr><tr><td>&quot;min&quot;</td><td>2.0</td></tr><tr><td>&quot;25%&quot;</td><td>3.0</td></tr><tr><td>&quot;50%&quot;</td><td>3.0</td></tr><tr><td>&quot;75%&quot;</td><td>9.0</td></tr><tr><td>&quot;max&quot;</td><td>9.0</td></tr></tbody></table></div>"
      ],
      "text/plain": [
       "shape: (9, 2)\n",
       "┌────────────┬──────────┐\n",
       "│ statistic  ┆ value    │\n",
       "│ ---        ┆ ---      │\n",
       "│ str        ┆ f64      │\n",
       "╞════════════╪══════════╡\n",
       "│ count      ┆ 3.0      │\n",
       "│ null_count ┆ 1.0      │\n",
       "│ mean       ┆ 4.666667 │\n",
       "│ std        ┆ 3.785939 │\n",
       "│ min        ┆ 2.0      │\n",
       "│ 25%        ┆ 3.0      │\n",
       "│ 50%        ┆ 3.0      │\n",
       "│ 75%        ┆ 9.0      │\n",
       "│ max        ┆ 9.0      │\n",
       "└────────────┴──────────┘"
      ]
     },
     "execution_count": 15,
     "metadata": {},
     "output_type": "execute_result"
    }
   ],
   "source": [
    "# use describe() on polars dataframe\n",
    "\n",
    "df_pl['num_occurrences'].describe()"
   ]
  },
  {
   "cell_type": "code",
   "execution_count": null,
   "metadata": {},
   "outputs": [],
   "source": []
  },
  {
   "cell_type": "code",
   "execution_count": null,
   "metadata": {},
   "outputs": [],
   "source": []
  },
  {
   "cell_type": "code",
   "execution_count": null,
   "metadata": {},
   "outputs": [],
   "source": []
  },
  {
   "cell_type": "code",
   "execution_count": null,
   "metadata": {},
   "outputs": [],
   "source": []
  }
 ],
 "metadata": {
  "colab": {
   "authorship_tag": "ABX9TyNsct24V7r0yOe65TeiVW7A",
   "provenance": []
  },
  "kernelspec": {
   "display_name": "Python 3 (ipykernel)",
   "language": "python",
   "name": "python3"
  },
  "language_info": {
   "codemirror_mode": {
    "name": "ipython",
    "version": 3
   },
   "file_extension": ".py",
   "mimetype": "text/x-python",
   "name": "python",
   "nbconvert_exporter": "python",
   "pygments_lexer": "ipython3",
   "version": "3.10.13"
  }
 },
 "nbformat": 4,
 "nbformat_minor": 4
}
