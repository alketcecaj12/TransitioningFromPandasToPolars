{
 "cells": [
  {
   "cell_type": "code",
   "execution_count": 5,
   "id": "5bb9ee46-7b59-4782-b79c-4eb069b28d44",
   "metadata": {},
   "outputs": [],
   "source": [
    "# import the library\n",
    "import polars as pl"
   ]
  },
  {
   "cell_type": "code",
   "execution_count": 10,
   "id": "96c0c46a-b360-481c-8ad7-283a3c7bf31d",
   "metadata": {},
   "outputs": [],
   "source": [
    "# load the data in .csv format\n",
    "data_csv = pl.read_csv('data/food_consumption.csv')"
   ]
  },
  {
   "cell_type": "code",
   "execution_count": 11,
   "id": "277b92b2-02f3-4b82-910f-7aaf7a236cea",
   "metadata": {
    "scrolled": true
   },
   "outputs": [
    {
     "data": {
      "text/html": [
       "<div><style>\n",
       ".dataframe > thead > tr,\n",
       ".dataframe > tbody > tr {\n",
       "  text-align: right;\n",
       "  white-space: pre-wrap;\n",
       "}\n",
       "</style>\n",
       "<small>shape: (1_430, 5)</small><table border=\"1\" class=\"dataframe\"><thead><tr><th></th><th>country</th><th>food_category</th><th>consumption</th><th>co2_emission</th></tr><tr><td>i64</td><td>str</td><td>str</td><td>f64</td><td>f64</td></tr></thead><tbody><tr><td>1</td><td>&quot;Argentina&quot;</td><td>&quot;pork&quot;</td><td>10.51</td><td>37.2</td></tr><tr><td>2</td><td>&quot;Argentina&quot;</td><td>&quot;poultry&quot;</td><td>38.66</td><td>41.53</td></tr><tr><td>3</td><td>&quot;Argentina&quot;</td><td>&quot;beef&quot;</td><td>55.48</td><td>1712.0</td></tr><tr><td>4</td><td>&quot;Argentina&quot;</td><td>&quot;lamb_goat&quot;</td><td>1.56</td><td>54.63</td></tr><tr><td>5</td><td>&quot;Argentina&quot;</td><td>&quot;fish&quot;</td><td>4.36</td><td>6.96</td></tr><tr><td>&hellip;</td><td>&hellip;</td><td>&hellip;</td><td>&hellip;</td><td>&hellip;</td></tr><tr><td>1426</td><td>&quot;Bangladesh&quot;</td><td>&quot;dairy&quot;</td><td>21.91</td><td>31.21</td></tr><tr><td>1427</td><td>&quot;Bangladesh&quot;</td><td>&quot;wheat&quot;</td><td>17.47</td><td>3.33</td></tr><tr><td>1428</td><td>&quot;Bangladesh&quot;</td><td>&quot;rice&quot;</td><td>171.73</td><td>219.76</td></tr><tr><td>1429</td><td>&quot;Bangladesh&quot;</td><td>&quot;soybeans&quot;</td><td>0.61</td><td>0.27</td></tr><tr><td>1430</td><td>&quot;Bangladesh&quot;</td><td>&quot;nuts&quot;</td><td>0.72</td><td>1.27</td></tr></tbody></table></div>"
      ],
      "text/plain": [
       "shape: (1_430, 5)\n",
       "┌──────┬────────────┬───────────────┬─────────────┬──────────────┐\n",
       "│      ┆ country    ┆ food_category ┆ consumption ┆ co2_emission │\n",
       "│ ---  ┆ ---        ┆ ---           ┆ ---         ┆ ---          │\n",
       "│ i64  ┆ str        ┆ str           ┆ f64         ┆ f64          │\n",
       "╞══════╪════════════╪═══════════════╪═════════════╪══════════════╡\n",
       "│ 1    ┆ Argentina  ┆ pork          ┆ 10.51       ┆ 37.2         │\n",
       "│ 2    ┆ Argentina  ┆ poultry       ┆ 38.66       ┆ 41.53        │\n",
       "│ 3    ┆ Argentina  ┆ beef          ┆ 55.48       ┆ 1712.0       │\n",
       "│ 4    ┆ Argentina  ┆ lamb_goat     ┆ 1.56        ┆ 54.63        │\n",
       "│ 5    ┆ Argentina  ┆ fish          ┆ 4.36        ┆ 6.96         │\n",
       "│ …    ┆ …          ┆ …             ┆ …           ┆ …            │\n",
       "│ 1426 ┆ Bangladesh ┆ dairy         ┆ 21.91       ┆ 31.21        │\n",
       "│ 1427 ┆ Bangladesh ┆ wheat         ┆ 17.47       ┆ 3.33         │\n",
       "│ 1428 ┆ Bangladesh ┆ rice          ┆ 171.73      ┆ 219.76       │\n",
       "│ 1429 ┆ Bangladesh ┆ soybeans      ┆ 0.61        ┆ 0.27         │\n",
       "│ 1430 ┆ Bangladesh ┆ nuts          ┆ 0.72        ┆ 1.27         │\n",
       "└──────┴────────────┴───────────────┴─────────────┴──────────────┘"
      ]
     },
     "execution_count": 11,
     "metadata": {},
     "output_type": "execute_result"
    }
   ],
   "source": [
    "# worth noting how the Polars library shows also the data types of each column\n",
    "data_csv"
   ]
  },
  {
   "cell_type": "code",
   "execution_count": 13,
   "id": "1cdd8dde-97f3-40c2-b933-1ce96bdfb76a",
   "metadata": {},
   "outputs": [],
   "source": [
    "# load the data in excel .xlsx file format ..\n",
    "data_excel = pl.read_excel('data/file_example.xlsx')"
   ]
  },
  {
   "cell_type": "code",
   "execution_count": 14,
   "id": "f4e2c876-e054-4ad7-b9df-bb6007c70749",
   "metadata": {
    "scrolled": true
   },
   "outputs": [
    {
     "data": {
      "text/html": [
       "<div><style>\n",
       ".dataframe > thead > tr,\n",
       ".dataframe > tbody > tr {\n",
       "  text-align: right;\n",
       "  white-space: pre-wrap;\n",
       "}\n",
       "</style>\n",
       "<small>shape: (9, 8)</small><table border=\"1\" class=\"dataframe\"><thead><tr><th>0</th><th>First Name</th><th>Last Name</th><th>Gender</th><th>Country</th><th>Age</th><th>Date</th><th>Id</th></tr><tr><td>i64</td><td>str</td><td>str</td><td>str</td><td>str</td><td>i64</td><td>str</td><td>i64</td></tr></thead><tbody><tr><td>1</td><td>&quot;Dulce&quot;</td><td>&quot;Abril&quot;</td><td>&quot;Female&quot;</td><td>&quot;United States&quot;</td><td>32</td><td>&quot;15/10/2017&quot;</td><td>1562</td></tr><tr><td>2</td><td>&quot;Mara&quot;</td><td>&quot;Hashimoto&quot;</td><td>&quot;Female&quot;</td><td>&quot;Great Britain&quot;</td><td>25</td><td>&quot;16/08/2016&quot;</td><td>1582</td></tr><tr><td>3</td><td>&quot;Philip&quot;</td><td>&quot;Gent&quot;</td><td>&quot;Male&quot;</td><td>&quot;France&quot;</td><td>36</td><td>&quot;21/05/2015&quot;</td><td>2587</td></tr><tr><td>4</td><td>&quot;Kathleen&quot;</td><td>&quot;Hanner&quot;</td><td>&quot;Female&quot;</td><td>&quot;United States&quot;</td><td>25</td><td>&quot;15/10/2017&quot;</td><td>3549</td></tr><tr><td>5</td><td>&quot;Nereida&quot;</td><td>&quot;Magwood&quot;</td><td>&quot;Female&quot;</td><td>&quot;United States&quot;</td><td>58</td><td>&quot;16/08/2016&quot;</td><td>2468</td></tr><tr><td>6</td><td>&quot;Gaston&quot;</td><td>&quot;Brumm&quot;</td><td>&quot;Male&quot;</td><td>&quot;United States&quot;</td><td>24</td><td>&quot;21/05/2015&quot;</td><td>2554</td></tr><tr><td>7</td><td>&quot;Etta&quot;</td><td>&quot;Hurn&quot;</td><td>&quot;Female&quot;</td><td>&quot;Great Britain&quot;</td><td>56</td><td>&quot;15/10/2017&quot;</td><td>3598</td></tr><tr><td>8</td><td>&quot;Earlean&quot;</td><td>&quot;Melgar&quot;</td><td>&quot;Female&quot;</td><td>&quot;United States&quot;</td><td>27</td><td>&quot;16/08/2016&quot;</td><td>2456</td></tr><tr><td>9</td><td>&quot;Vincenza&quot;</td><td>&quot;Weiland&quot;</td><td>&quot;Female&quot;</td><td>&quot;United States&quot;</td><td>40</td><td>&quot;21/05/2015&quot;</td><td>6548</td></tr></tbody></table></div>"
      ],
      "text/plain": [
       "shape: (9, 8)\n",
       "┌─────┬────────────┬───────────┬────────┬───────────────┬─────┬────────────┬──────┐\n",
       "│ 0   ┆ First Name ┆ Last Name ┆ Gender ┆ Country       ┆ Age ┆ Date       ┆ Id   │\n",
       "│ --- ┆ ---        ┆ ---       ┆ ---    ┆ ---           ┆ --- ┆ ---        ┆ ---  │\n",
       "│ i64 ┆ str        ┆ str       ┆ str    ┆ str           ┆ i64 ┆ str        ┆ i64  │\n",
       "╞═════╪════════════╪═══════════╪════════╪═══════════════╪═════╪════════════╪══════╡\n",
       "│ 1   ┆ Dulce      ┆ Abril     ┆ Female ┆ United States ┆ 32  ┆ 15/10/2017 ┆ 1562 │\n",
       "│ 2   ┆ Mara       ┆ Hashimoto ┆ Female ┆ Great Britain ┆ 25  ┆ 16/08/2016 ┆ 1582 │\n",
       "│ 3   ┆ Philip     ┆ Gent      ┆ Male   ┆ France        ┆ 36  ┆ 21/05/2015 ┆ 2587 │\n",
       "│ 4   ┆ Kathleen   ┆ Hanner    ┆ Female ┆ United States ┆ 25  ┆ 15/10/2017 ┆ 3549 │\n",
       "│ 5   ┆ Nereida    ┆ Magwood   ┆ Female ┆ United States ┆ 58  ┆ 16/08/2016 ┆ 2468 │\n",
       "│ 6   ┆ Gaston     ┆ Brumm     ┆ Male   ┆ United States ┆ 24  ┆ 21/05/2015 ┆ 2554 │\n",
       "│ 7   ┆ Etta       ┆ Hurn      ┆ Female ┆ Great Britain ┆ 56  ┆ 15/10/2017 ┆ 3598 │\n",
       "│ 8   ┆ Earlean    ┆ Melgar    ┆ Female ┆ United States ┆ 27  ┆ 16/08/2016 ┆ 2456 │\n",
       "│ 9   ┆ Vincenza   ┆ Weiland   ┆ Female ┆ United States ┆ 40  ┆ 21/05/2015 ┆ 6548 │\n",
       "└─────┴────────────┴───────────┴────────┴───────────────┴─────┴────────────┴──────┘"
      ]
     },
     "execution_count": 14,
     "metadata": {},
     "output_type": "execute_result"
    }
   ],
   "source": [
    "data_excel"
   ]
  },
  {
   "cell_type": "code",
   "execution_count": 16,
   "id": "160d1d58-5eb2-4c7a-b8b3-56416c0256f8",
   "metadata": {},
   "outputs": [],
   "source": [
    "# load the data in .parque format \n",
    "data_parquet = pl.read_parquet('data/sample.parquet')"
   ]
  },
  {
   "cell_type": "code",
   "execution_count": 17,
   "id": "7f772b50-00e0-4345-8e7f-b914e2c65730",
   "metadata": {},
   "outputs": [
    {
     "data": {
      "text/html": [
       "<div><style>\n",
       ".dataframe > thead > tr,\n",
       ".dataframe > tbody > tr {\n",
       "  text-align: right;\n",
       "  white-space: pre-wrap;\n",
       "}\n",
       "</style>\n",
       "<small>shape: (1_001, 2)</small><table border=\"1\" class=\"dataframe\"><thead><tr><th>column0</th><th>column1</th></tr><tr><td>str</td><td>str</td></tr></thead><tbody><tr><td>&quot;first&quot;</td><td>&quot; last&quot;</td></tr><tr><td>&quot;Edna&quot;</td><td>&quot;Moss&quot;</td></tr><tr><td>&quot;Harvey&quot;</td><td>&quot;Carter&quot;</td></tr><tr><td>&quot;Leah&quot;</td><td>&quot;Douglas&quot;</td></tr><tr><td>&quot;Ricardo&quot;</td><td>&quot;Owens&quot;</td></tr><tr><td>&hellip;</td><td>&hellip;</td></tr><tr><td>&quot;Donald&quot;</td><td>&quot;Paul&quot;</td></tr><tr><td>&quot;Amanda&quot;</td><td>&quot;Green&quot;</td></tr><tr><td>&quot;Myrtie&quot;</td><td>&quot;Walton&quot;</td></tr><tr><td>&quot;Todd&quot;</td><td>&quot;Johnston&quot;</td></tr><tr><td>&quot;Essie&quot;</td><td>&quot;Carr&quot;</td></tr></tbody></table></div>"
      ],
      "text/plain": [
       "shape: (1_001, 2)\n",
       "┌─────────┬──────────┐\n",
       "│ column0 ┆ column1  │\n",
       "│ ---     ┆ ---      │\n",
       "│ str     ┆ str      │\n",
       "╞═════════╪══════════╡\n",
       "│ first   ┆  last    │\n",
       "│ Edna    ┆ Moss     │\n",
       "│ Harvey  ┆ Carter   │\n",
       "│ Leah    ┆ Douglas  │\n",
       "│ Ricardo ┆ Owens    │\n",
       "│ …       ┆ …        │\n",
       "│ Donald  ┆ Paul     │\n",
       "│ Amanda  ┆ Green    │\n",
       "│ Myrtie  ┆ Walton   │\n",
       "│ Todd    ┆ Johnston │\n",
       "│ Essie   ┆ Carr     │\n",
       "└─────────┴──────────┘"
      ]
     },
     "execution_count": 17,
     "metadata": {},
     "output_type": "execute_result"
    }
   ],
   "source": [
    "data_parquet"
   ]
  },
  {
   "cell_type": "code",
   "execution_count": null,
   "id": "0c90aeb8-b252-48f2-a59d-f6a91b0b3e20",
   "metadata": {},
   "outputs": [],
   "source": []
  },
  {
   "cell_type": "code",
   "execution_count": null,
   "id": "43031008-b41d-4fc6-a952-359d7f4f9597",
   "metadata": {},
   "outputs": [],
   "source": []
  },
  {
   "cell_type": "code",
   "execution_count": null,
   "id": "f08cc16d-dce9-41d4-91bf-8799b2391f43",
   "metadata": {},
   "outputs": [],
   "source": []
  },
  {
   "cell_type": "code",
   "execution_count": null,
   "id": "3c6aeffc-3c5e-48c6-b6ec-a98d8a71bcff",
   "metadata": {},
   "outputs": [],
   "source": []
  },
  {
   "cell_type": "code",
   "execution_count": null,
   "id": "3c4537d0-ea73-438c-a94c-d430305b7ec7",
   "metadata": {},
   "outputs": [],
   "source": []
  },
  {
   "cell_type": "code",
   "execution_count": null,
   "id": "06eef8b8-37cb-4c87-96d5-d3e735535918",
   "metadata": {},
   "outputs": [],
   "source": []
  }
 ],
 "metadata": {
  "kernelspec": {
   "display_name": "Python 3 (ipykernel)",
   "language": "python",
   "name": "python3"
  },
  "language_info": {
   "codemirror_mode": {
    "name": "ipython",
    "version": 3
   },
   "file_extension": ".py",
   "mimetype": "text/x-python",
   "name": "python",
   "nbconvert_exporter": "python",
   "pygments_lexer": "ipython3",
   "version": "3.10.13"
  }
 },
 "nbformat": 4,
 "nbformat_minor": 5
}
